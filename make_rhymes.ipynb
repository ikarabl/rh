{
 "cells": [
  {
   "cell_type": "code",
   "execution_count": 1,
   "metadata": {},
   "outputs": [],
   "source": [
    "import os\n",
    "import re\n",
    "import html\n",
    "from bs4 import BeautifulSoup\n",
    "from bs4 import NavigableString\n",
    "from tqdm import tqdm_notebook as tqdm\n",
    "from collections import Counter\n",
    "import codecs\n",
    "from nltk import word_tokenize\n",
    "from nltk import pos_tag\n",
    "import pandas as pd"
   ]
  },
  {
   "cell_type": "code",
   "execution_count": 2,
   "metadata": {},
   "outputs": [],
   "source": [
    "import json\n",
    "import numpy as np"
   ]
  },
  {
   "cell_type": "code",
   "execution_count": 63,
   "metadata": {},
   "outputs": [
    {
     "name": "stdout",
     "output_type": "stream",
     "text": [
      "[nltk_data] Downloading package averaged_perceptron_tagger_ru to\n",
      "[nltk_data]     /Users/ika/nltk_data...\n",
      "[nltk_data]   Unzipping taggers/averaged_perceptron_tagger_ru.zip.\n"
     ]
    },
    {
     "data": {
      "text/plain": [
       "True"
      ]
     },
     "execution_count": 63,
     "metadata": {},
     "output_type": "execute_result"
    }
   ],
   "source": [
    "import nltk\n",
    "nltk.download('averaged_perceptron_tagger_ru')"
   ]
  },
  {
   "cell_type": "code",
   "execution_count": 3,
   "metadata": {},
   "outputs": [],
   "source": [
    "rhyme_files = []\n",
    "corpus = []\n",
    "poems_with_path = {}\n",
    "start_path = '/Users/ika/Poetry_corpus/'\n",
    "for root, dirs, files in os.walk(start_path):\n",
    "    for fname in files:\n",
    "        if not fname.startswith('.'):\n",
    "            file_name = os.path.join(root, os.path.normpath(fname))\n",
    "            short_name = re.sub(r'/Users/ika/Poetry_corpus/', '', file_name)\n",
    "            rhyme_files.append(short_name)\n",
    "            with codecs.open(os.path.join(root, fname), encoding='windows-1251') as f:\n",
    "                raw_text = f.read()\n",
    "                t = BeautifulSoup(raw_text, \"lxml\")\n",
    "                corpus.append(t)\n",
    "                poems_with_path.update({t: short_name})\n",
    "                "
   ]
  },
  {
   "cell_type": "code",
   "execution_count": 4,
   "metadata": {},
   "outputs": [],
   "source": [
    "STROPHE = \"strophe\"\n",
    "EXTRA = \"extra\"\n",
    "VERSES = \"verses\"\n",
    "RHYMING_PAIRS_WITH_PATH = {}\n",
    "EXCEPTIONS = []\n",
    "FIND_RHYME_EXCEPTIONS = []\n",
    "MAKE_RHYMING_PAIRS_EXCEPTIONS = []\n",
    "MAKE_ENCIRCLING_PAIRS_EXCEPTIONS = []"
   ]
  },
  {
   "cell_type": "code",
   "execution_count": 5,
   "metadata": {},
   "outputs": [],
   "source": [
    "RHYMING_PAIRS_ONLY_WITH_PATH = {}\n",
    "ORDERED_RHYMING_PAIRS = []"
   ]
  },
  {
   "cell_type": "code",
   "execution_count": 6,
   "metadata": {},
   "outputs": [],
   "source": [
    "def number_of_verses(poem):\n",
    "    verses = get_attr(poem, VERSES)\n",
    "    if verses == \"unknown\":\n",
    "        return verses\n",
    "    else:\n",
    "        num = re.compile(r'^\\d+')\n",
    "        nmbr_of_verses = re.findall(num, verses)[0]\n",
    "    return nmbr_of_verses\n",
    "\n"
   ]
  },
  {
   "cell_type": "code",
   "execution_count": 7,
   "metadata": {},
   "outputs": [],
   "source": [
    "def determine_rhyming_type(poem):\n",
    "    if poem.find(attrs={\"name\": \"rhyme\"}):\n",
    "        rhyming_type = poem.find(attrs={\"name\": \"rhyme\"})[\"content\"]\n",
    "    elif poem.find(attrs={\"name\": \"rime\"}):\n",
    "        rhyming_type = poem.find(attrs={\"name\": \"rime\"})[\"content\"]\n",
    "    else:\n",
    "        rhyming_type = \"unknown\"\n",
    "    return rhyming_type"
   ]
  },
  {
   "cell_type": "code",
   "execution_count": 8,
   "metadata": {},
   "outputs": [],
   "source": [
    "def get_attr(poem, attr):\n",
    "    if poem.find(attrs={\"name\": attr}):\n",
    "        param_type = poem.find(attrs={\"name\": attr})[\"content\"]\n",
    "    else:\n",
    "        param_type = \"unknown\"\n",
    "    return param_type"
   ]
  },
  {
   "cell_type": "code",
   "execution_count": 9,
   "metadata": {},
   "outputs": [],
   "source": [
    "def find_rhymes(poem):\n",
    "    rhymes = []\n",
    "    rhyme_tag = poem.find_all(\"rhyme-zone\")\n",
    "    for item in rhyme_tag:\n",
    "        try:\n",
    "            if isinstance(item.next_element, NavigableString):\n",
    "                rhyme = item.next_element.strip(\".,!?;:«»…-–—−() \").lower()\n",
    "                rhymes.append(rhyme)\n",
    "            else:\n",
    "                rhyme = str(item.next_element.contents[0])\n",
    "                rhymes.append(rhyme)\n",
    "        except Exception:\n",
    "            FIND_RHYME_EXCEPTIONS.append([poem, poems_with_path[poem]])\n",
    "    return rhymes"
   ]
  },
  {
   "cell_type": "code",
   "execution_count": 10,
   "metadata": {},
   "outputs": [],
   "source": [
    "def make_strophes(poem, n):\n",
    "    lst = find_rhymes(poem)\n",
    "    strophes = [lst[i:i + n] for i in range(0, len(lst), n)]\n",
    "    return strophes"
   ]
  },
  {
   "cell_type": "code",
   "execution_count": 11,
   "metadata": {},
   "outputs": [],
   "source": [
    "def make_rhyming_pairs_crossed_4(poem):\n",
    "    n = 4\n",
    "    pairs = []\n",
    "    try:\n",
    "        for strophe in make_strophes(poem, n):\n",
    "            for i in range(2):\n",
    "                pair = (strophe[i], strophe[i + 2])\n",
    "                pairs.append(pair)\n",
    "    except Exception:\n",
    "        MAKE_RHYMING_PAIRS_EXCEPTIONS.append(poem)\n",
    "    return pairs\n",
    "        "
   ]
  },
  {
   "cell_type": "code",
   "execution_count": 12,
   "metadata": {},
   "outputs": [],
   "source": [
    "def make_rhyming_pairs_encircling(poem):\n",
    "    pairs = []\n",
    "    try:\n",
    "        for strophe in make_strophes(poem, 4):\n",
    "            pair1 = (strophe[0], strophe[3])\n",
    "            pair2 = (strophe[1], strophe[2])\n",
    "            pairs.append(pair1)\n",
    "            pairs.append(pair2)\n",
    "    except Exception:\n",
    "        MAKE_ENCIRCLING_PAIRS_EXCEPTIONS.append(poem)\n",
    "    return pairs\n",
    "        "
   ]
  },
  {
   "cell_type": "code",
   "execution_count": 13,
   "metadata": {},
   "outputs": [],
   "source": [
    "def make_rhyming_pairs_paired(poem):\n",
    "    pairs = []\n",
    "    try:\n",
    "        \n",
    "        #if get_attr(poem, VERSES) != \"unknown\":\n",
    "           # verses = number_of_verses(poem)\n",
    "            #if not verses % 2:\n",
    "        for i in range(0, len(find_rhymes(poem)), 2):\n",
    "            pair = (find_rhymes(poem)[i], find_rhymes(poem)[i + 1])\n",
    "            pairs.append(pair)\n",
    "    except Exception:\n",
    "        MAKE_RHYMING_PAIRS_EXCEPTIONS.append(poem)\n",
    "    return pairs"
   ]
  },
  {
   "cell_type": "code",
   "execution_count": 14,
   "metadata": {},
   "outputs": [],
   "source": [
    "def make_rhyming_pairs_even(poem):\n",
    "    pairs = []\n",
    "    for strophe in make_strophes(poem):\n",
    "        pair = [strophe[1], strophe[3]]\n",
    "        pairs.append(pair)\n",
    "    return pairs"
   ]
  },
  {
   "cell_type": "code",
   "execution_count": 15,
   "metadata": {},
   "outputs": [],
   "source": [
    "def make_rhyming_pairs_odd(poem):\n",
    "    pairs = []\n",
    "    for strophe in make_strophes(poem):\n",
    "        pair = (strophe[0], strophe[2])\n",
    "        pairs.append(pair)\n",
    "    return pairs"
   ]
  },
  {
   "cell_type": "code",
   "execution_count": 16,
   "metadata": {},
   "outputs": [],
   "source": [
    "def order_pair(pair):\n",
    "    sorted_pair = sorted(pair)\n",
    "    if sorted_pair == pair:\n",
    "        sorted_pair.append(0)\n",
    "    else:\n",
    "        sorted_pair.append(1)\n",
    "    return tuple(sorted_pair)"
   ]
  },
  {
   "cell_type": "code",
   "execution_count": 17,
   "metadata": {},
   "outputs": [],
   "source": [
    "def get_complex_rhyming_code(poem):\n",
    "    rhyming_type = determine_rhyming_type(poem)\n",
    "    code_pattern = re.compile(r'\\|[а-яё ]+')\n",
    "    m = re.search(code_pattern, rhyming_type)\n",
    "    code = m.group(0)\n",
    "    code = re.sub(\" \", \"\", code)\n",
    "    code = re.sub(\"\\|\", \"\", code)\n",
    "    return code"
   ]
  },
  {
   "cell_type": "code",
   "execution_count": 18,
   "metadata": {},
   "outputs": [],
   "source": [
    "def get_indexes_from_code(rhyming_code):\n",
    "    unique_letters = list(set(rhyming_code))\n",
    "    list_of_index_lists = []\n",
    "    for l in unique_letters:\n",
    "        index_list = [index for index, char in enumerate(rhyming_code) if char == l and char != \"х\"]\n",
    "        if index_list:\n",
    "            list_of_index_lists.append(index_list)\n",
    "    return list_of_index_lists"
   ]
  },
  {
   "cell_type": "code",
   "execution_count": 19,
   "metadata": {},
   "outputs": [],
   "source": [
    "def make_pairs_6(poem):\n",
    "    rhyming_code = get_complex_rhyming_code(poem)\n",
    "    indexes = get_indexes_from_code(rhyming_code)\n",
    "    pairs = []\n",
    "    for strophe in make_strophes(poem, 6):\n",
    "        pairs_in_strophe = []\n",
    "        for lst in indexes:\n",
    "            pair = []\n",
    "            for i in lst:\n",
    "                pair.append(strophe[i])\n",
    "            pairs_in_strophe.append(pair)\n",
    "        pairs.extend(pairs_in_strophe)\n",
    "    return pairs"
   ]
  },
  {
   "cell_type": "code",
   "execution_count": 20,
   "metadata": {},
   "outputs": [],
   "source": [
    "no_rhyme = []\n",
    "unknown_rhyme = []\n",
    "complex_rhyme = []\n",
    "free_rhyme = []\n",
    "sporadic_rhyme = []\n",
    "weird_strophes = []\n",
    "paired_rhyme = []\n",
    "further_analysis = []\n",
    "\n",
    "RHYMING_PAIRS = []"
   ]
  },
  {
   "cell_type": "code",
   "execution_count": 21,
   "metadata": {},
   "outputs": [],
   "source": [
    "for poem in corpus:\n",
    "    if determine_rhyming_type(poem) == \"0\":\n",
    "        no_rhyme.append(poem)\n",
    "    elif determine_rhyming_type(poem) == \"unknown\":\n",
    "        unknown_rhyme.append(poem)\n",
    "    elif \"#\" in determine_rhyming_type(poem):\n",
    "        complex_rhyme.append(poem)\n",
    "    elif determine_rhyming_type(poem) == \"вольная\":\n",
    "        free_rhyme.append(poem)\n",
    "    elif determine_rhyming_type(poem) == \"спорадическая\":\n",
    "        sporadic_rhyme.append(poem)\n",
    "    elif \"нарушения строфики\" in get_attr(poem, EXTRA):\n",
    "        weird_strophes.append(poem)\n",
    "    elif determine_rhyming_type(poem).lower() in \"парная | аа \":\n",
    "        paired_rhyme.append(poem)\n",
    "    else:\n",
    "        further_analysis.append(poem)\n",
    "        \n",
    "        \n",
    "        \n",
    "    \n",
    "    "
   ]
  },
  {
   "cell_type": "code",
   "execution_count": 22,
   "metadata": {},
   "outputs": [
    {
     "name": "stdout",
     "output_type": "stream",
     "text": [
      "Нет рифмы:  4371\n",
      "Неизвестно:  44\n",
      "Сложная рифма:  1188\n",
      "Вольная рифма:  11300\n",
      "Спорадическая рифма:  754\n",
      "Нарушения строфики:  5432\n",
      "Парная рифма:  5284\n",
      "Анализируем дальше:  48092\n"
     ]
    }
   ],
   "source": [
    "print(\"Нет рифмы: \", len(no_rhyme))\n",
    "print(\"Неизвестно: \", len(unknown_rhyme))\n",
    "print(\"Сложная рифма: \", len(complex_rhyme))\n",
    "print(\"Вольная рифма: \", len(free_rhyme))\n",
    "print(\"Спорадическая рифма: \", len(sporadic_rhyme))\n",
    "print(\"Нарушения строфики: \", len(weird_strophes))\n",
    "print(\"Парная рифма: \", len(paired_rhyme))\n",
    "print(\"Анализируем дальше: \", len(further_analysis))"
   ]
  },
  {
   "cell_type": "code",
   "execution_count": null,
   "metadata": {},
   "outputs": [],
   "source": []
  },
  {
   "cell_type": "code",
   "execution_count": 23,
   "metadata": {},
   "outputs": [],
   "source": [
    "strophe_4 = []\n",
    "further_analysis_2 = []\n",
    "\n",
    "for poem in further_analysis:\n",
    "    if get_attr(poem, STROPHE) == \"4\":\n",
    "        strophe_4.append(poem)\n",
    "    else:\n",
    "        further_analysis_2.append(poem)\n"
   ]
  },
  {
   "cell_type": "code",
   "execution_count": 24,
   "metadata": {},
   "outputs": [
    {
     "name": "stdout",
     "output_type": "stream",
     "text": [
      "Строфа-4:  39937\n",
      "Едем дальше:  8155\n"
     ]
    }
   ],
   "source": [
    "print(\"Строфа-4: \", len(strophe_4))\n",
    "print(\"Едем дальше: \", len(further_analysis_2))"
   ]
  },
  {
   "cell_type": "code",
   "execution_count": null,
   "metadata": {},
   "outputs": [],
   "source": []
  },
  {
   "cell_type": "code",
   "execution_count": null,
   "metadata": {},
   "outputs": [],
   "source": []
  },
  {
   "cell_type": "code",
   "execution_count": 70,
   "metadata": {},
   "outputs": [],
   "source": [
    "count = Counter()\n",
    "\n",
    "for poem in strophe_4:\n",
    "    strophe_type = determine_rhyming_type(poem)\n",
    "    count[strophe_type] += 1\n",
    "    "
   ]
  },
  {
   "cell_type": "code",
   "execution_count": 82,
   "metadata": {},
   "outputs": [],
   "source": [
    "str4 = str(count).split(\",\")\n",
    "stro_4 = \"\\n\".join(str4)\n",
    "with open('rhyme_in_strophe_4.txt', 'w') as f:\n",
    "    f.write(stro_4)"
   ]
  },
  {
   "cell_type": "code",
   "execution_count": 25,
   "metadata": {},
   "outputs": [],
   "source": [
    "strophe_4_wrong_number_of_verses = []\n",
    "strophe_4_good_verses = []\n",
    "\n",
    "for poem in strophe_4:\n",
    "    if number_of_verses(poem) != \"unknown\":\n",
    "        if int(number_of_verses(poem)) % 4:\n",
    "            strophe_4_wrong_number_of_verses.append(poem)\n",
    "        else:\n",
    "            strophe_4_good_verses.append(poem)\n",
    "    else:\n",
    "        strophe_4_good_verses.append(poem)\n",
    "            \n",
    "                "
   ]
  },
  {
   "cell_type": "code",
   "execution_count": 26,
   "metadata": {},
   "outputs": [
    {
     "name": "stdout",
     "output_type": "stream",
     "text": [
      "587\n",
      "39350\n"
     ]
    }
   ],
   "source": [
    "print(len(strophe_4_wrong_number_of_verses))\n",
    "print(len(strophe_4_good_verses))"
   ]
  },
  {
   "cell_type": "code",
   "execution_count": null,
   "metadata": {},
   "outputs": [],
   "source": []
  },
  {
   "cell_type": "code",
   "execution_count": 27,
   "metadata": {},
   "outputs": [],
   "source": [
    "CROSSED_4_PAIRS_WITH_PATH = {}\n",
    "\n",
    "strophe_4_continue = []\n",
    "strophe_4_crossed_rhyme_types = [\"перекрестная | абаб\", \"перекрестная\",\n",
    "                                   \"перекрестная | амам\", \"перекрестная | мама\", \"перекрестная | тата\",\n",
    "                                   \"перекрестная | атат\", \"перекрестная | арар\", \"перекрсетная | абаб\",\n",
    "                                   \"перекрестная | рара\", \"переркестная | абаб\", \"перекерстная | абаб\",\n",
    "                                   \"регулярная | абаб\", \"перекерстная\", \"перекрестный\", \"перекрестная | абба\",\n",
    "                                   \"перекрестая | абаб\", \"перекрестные\", \"перкерестная\", \"перекретсная\",\n",
    "                                   \"перекрестая\", \"перкрестная | абаб\", \"переркрестная | абаб\",\n",
    "                                   \"перекрестная | ртрт\", \"перекрестная | рифма\", \"перекрестьная | абаб\",\n",
    "                                   \"прекрестная | абаб\", \"перекрестная | абаб абаб\", \"перекрестная | рара рбрб\"]"
   ]
  },
  {
   "cell_type": "code",
   "execution_count": null,
   "metadata": {},
   "outputs": [],
   "source": []
  },
  {
   "cell_type": "code",
   "execution_count": null,
   "metadata": {},
   "outputs": [],
   "source": []
  },
  {
   "cell_type": "code",
   "execution_count": null,
   "metadata": {},
   "outputs": [],
   "source": []
  },
  {
   "cell_type": "code",
   "execution_count": 28,
   "metadata": {},
   "outputs": [],
   "source": [
    "crossed_4_pairs = []\n",
    "crossed_4_unordered_pairs = []"
   ]
  },
  {
   "cell_type": "code",
   "execution_count": 29,
   "metadata": {},
   "outputs": [],
   "source": [
    "for poem in strophe_4_good_verses:\n",
    "    if determine_rhyming_type(poem).strip() in strophe_4_crossed_rhyme_types:\n",
    "        pairs = make_rhyming_pairs_crossed_4(poem)\n",
    "        ordered_pairs = [order_pair(pair) for pair in pairs]\n",
    "        CROSSED_4_PAIRS_WITH_PATH.update({poems_with_path[poem]: [poem, ordered_pairs]})\n",
    "        crossed_4_pairs.extend(ordered_pairs)\n",
    "        crossed_4_unordered_pairs.extend(pairs)\n",
    "    else:\n",
    "        strophe_4_continue.append(poem)\n",
    "        \n",
    "                \n",
    "            \n",
    "        "
   ]
  },
  {
   "cell_type": "code",
   "execution_count": 30,
   "metadata": {},
   "outputs": [
    {
     "name": "stdout",
     "output_type": "stream",
     "text": [
      "35842\n",
      "386180\n",
      "386180\n",
      "3497\n"
     ]
    }
   ],
   "source": [
    "print(len(CROSSED_4_PAIRS_WITH_PATH))\n",
    "print(len(crossed_4_pairs))\n",
    "print(len(crossed_4_unordered_pairs))\n",
    "print(len(strophe_4_continue))"
   ]
  },
  {
   "cell_type": "code",
   "execution_count": 36,
   "metadata": {},
   "outputs": [
    {
     "name": "stdout",
     "output_type": "stream",
     "text": [
      "('каза̀лся', 'загора̀лся')\n"
     ]
    }
   ],
   "source": [
    "print(crossed_4_unordered_pairs[100])"
   ]
  },
  {
   "cell_type": "code",
   "execution_count": 37,
   "metadata": {},
   "outputs": [
    {
     "name": "stdout",
     "output_type": "stream",
     "text": [
      "('загора̀лся', 'каза̀лся', 1)\n"
     ]
    }
   ],
   "source": [
    "print(crossed_4_pairs[100])"
   ]
  },
  {
   "cell_type": "code",
   "execution_count": null,
   "metadata": {},
   "outputs": [],
   "source": []
  },
  {
   "cell_type": "code",
   "execution_count": 32,
   "metadata": {},
   "outputs": [],
   "source": [
    "also_encircling_rhyme_types = [\"цепная | абба ваав...\", \"цепная | абба бввб вггв...\"]"
   ]
  },
  {
   "cell_type": "code",
   "execution_count": 165,
   "metadata": {},
   "outputs": [
    {
     "name": "stdout",
     "output_type": "stream",
     "text": [
      "1728\n",
      "1769\n"
     ]
    }
   ],
   "source": [
    "encircling = []\n",
    "strophe_4_further_analysis = []\n",
    "for poem in strophe_4_continue:\n",
    "    if \"охватная\" in determine_rhyming_type(poem).strip() or \\\n",
    "        determine_rhyming_type(poem).strip() in also_encircling_rhyme_types:\n",
    "            encircling.append(poem)\n",
    "    else:\n",
    "        strophe_4_further_analysis.append(poem)\n",
    "        \n",
    "        \n",
    "print(len(encircling))\n",
    "print(len(strophe_4_further_analysis))\n",
    "        \n",
    "    \n",
    "    "
   ]
  },
  {
   "cell_type": "code",
   "execution_count": 120,
   "metadata": {},
   "outputs": [],
   "source": [
    "encircling_pairs = []\n",
    "encircling_unordered_pairs = []\n",
    "ENCIRCLING_PAIRS_WITH_PATH = {}"
   ]
  },
  {
   "cell_type": "code",
   "execution_count": 121,
   "metadata": {},
   "outputs": [],
   "source": [
    "for poem in encircling:\n",
    "    pairs = make_rhyming_pairs_encircling(poem)\n",
    "    ordered_pairs = [order_pair(pair) for pair in pairs]\n",
    "    ENCIRCLING_PAIRS_WITH_PATH.update({poems_with_path[poem]: [poem, ordered_pairs]})\n",
    "    encircling_pairs.extend(ordered_pairs)\n",
    "    encircling_unordered_pairs.extend(pairs)\n",
    "   "
   ]
  },
  {
   "cell_type": "code",
   "execution_count": 122,
   "metadata": {},
   "outputs": [
    {
     "name": "stdout",
     "output_type": "stream",
     "text": [
      "12702\n",
      "12702\n",
      "1728\n"
     ]
    }
   ],
   "source": [
    "print(len(encircling_pairs))\n",
    "print(len(encircling_unordered_pairs))\n",
    "print(len(ENCIRCLING_PAIRS_WITH_PATH))"
   ]
  },
  {
   "cell_type": "code",
   "execution_count": 123,
   "metadata": {},
   "outputs": [
    {
     "name": "stdout",
     "output_type": "stream",
     "text": [
      "('своѐй', 'людѐй')\n"
     ]
    }
   ],
   "source": [
    "print(encircling_unordered_pairs[0])"
   ]
  },
  {
   "cell_type": "code",
   "execution_count": null,
   "metadata": {},
   "outputs": [],
   "source": []
  },
  {
   "cell_type": "code",
   "execution_count": null,
   "metadata": {},
   "outputs": [],
   "source": []
  },
  {
   "cell_type": "code",
   "execution_count": 23,
   "metadata": {},
   "outputs": [],
   "source": [
    "def get_metainfo(poem):\n",
    "    meta = poem.find_all('meta')\n",
    "    all_names = []\n",
    "    contents = []\n",
    "    for item in meta:\n",
    "        all_names.append(item['name'])\n",
    "        contents.append([item['name'], item['content']])\n",
    "    names = list(set(all_names))\n",
    "    return names, contents\n",
    "        "
   ]
  },
  {
   "cell_type": "code",
   "execution_count": null,
   "metadata": {},
   "outputs": [],
   "source": []
  },
  {
   "cell_type": "code",
   "execution_count": null,
   "metadata": {},
   "outputs": [],
   "source": []
  },
  {
   "cell_type": "code",
   "execution_count": null,
   "metadata": {},
   "outputs": [],
   "source": []
  },
  {
   "cell_type": "code",
   "execution_count": null,
   "metadata": {},
   "outputs": [],
   "source": []
  },
  {
   "cell_type": "code",
   "execution_count": null,
   "metadata": {},
   "outputs": [],
   "source": []
  },
  {
   "cell_type": "code",
   "execution_count": null,
   "metadata": {},
   "outputs": [],
   "source": []
  },
  {
   "cell_type": "code",
   "execution_count": null,
   "metadata": {},
   "outputs": [],
   "source": []
  },
  {
   "cell_type": "code",
   "execution_count": null,
   "metadata": {},
   "outputs": [],
   "source": []
  },
  {
   "cell_type": "code",
   "execution_count": 166,
   "metadata": {},
   "outputs": [],
   "source": [
    "PAIRED_RHYME_PAIRS_WITH_PATH = {}"
   ]
  },
  {
   "cell_type": "code",
   "execution_count": 167,
   "metadata": {},
   "outputs": [],
   "source": [
    "paired_rhyme_odd_number_of_verses = []\n",
    "paired_rhyme_unknown_number_of_verses = []\n",
    "paired_rhyme_pairs = []\n",
    "paired_rhyme_unordered_pairs = []\n",
    "for poem in paired_rhyme:\n",
    "    if number_of_verses(poem) != \"unknown\":\n",
    "        if int(number_of_verses(poem)) % 2:\n",
    "            paired_rhyme_odd_number_of_verses.append(poem)\n",
    "        else:\n",
    "            pairs = make_rhyming_pairs_paired(poem)\n",
    "            ordered_pairs = [order_pair(pair) for pair in pairs]\n",
    "            PAIRED_RHYME_PAIRS_WITH_PATH.update({poems_with_path[poem]: [poem, ordered_pairs]})\n",
    "            paired_rhyme_pairs.extend(ordered_pairs)\n",
    "            paired_rhyme_unordered_pairs.extend(pairs)\n",
    "    else:\n",
    "        paired_rhyme_unknown_number_of_verses.append(poem)\n",
    "        \n"
   ]
  },
  {
   "cell_type": "code",
   "execution_count": 168,
   "metadata": {},
   "outputs": [
    {
     "name": "stdout",
     "output_type": "stream",
     "text": [
      "5284\n",
      "339\n",
      "134\n",
      "4800\n"
     ]
    }
   ],
   "source": [
    "print(len(paired_rhyme))\n",
    "print(len(paired_rhyme_unknown_number_of_verses))\n",
    "print(len(paired_rhyme_odd_number_of_verses))\n",
    "print(len(PAIRED_RHYME_PAIRS_WITH_PATH))"
   ]
  },
  {
   "cell_type": "code",
   "execution_count": 169,
   "metadata": {},
   "outputs": [
    {
     "data": {
      "text/plain": [
       "56479"
      ]
     },
     "execution_count": 169,
     "metadata": {},
     "output_type": "execute_result"
    }
   ],
   "source": [
    "len(paired_rhyme_pairs)\n",
    "len(paired_rhyme_unordered_pairs)"
   ]
  },
  {
   "cell_type": "code",
   "execution_count": 186,
   "metadata": {},
   "outputs": [
    {
     "name": "stdout",
     "output_type": "stream",
     "text": [
      "[('густы̀м', 'томѝм', 1), ('криво̀й', 'мно̀й', 1), ('волна̀', 'ясна̀', 1), ('гу̀л', 'сомкну̀л', 1), ('ѝзбрала̀', 'светла̀', 1), ('ѐй', 'кудрѐй', 1), ('свѐт', 'согрѐт', 1), ('прѝтая̀', 'я̀', 1), ('больно̀й', 'руко̀й', 1), ('еѐ', 'неѐ', 1)]\n"
     ]
    }
   ],
   "source": [
    "print(paired_rhyme_pairs[:10])"
   ]
  },
  {
   "cell_type": "code",
   "execution_count": 187,
   "metadata": {},
   "outputs": [
    {
     "name": "stdout",
     "output_type": "stream",
     "text": [
      "[('томѝм', 'густы̀м'), ('криво̀й', 'мно̀й'), ('ясна̀', 'волна̀'), ('гу̀л', 'сомкну̀л'), ('светла̀', 'ѝзбрала̀'), ('ѐй', 'кудрѐй'), ('согрѐт', 'свѐт'), ('я̀', 'прѝтая̀'), ('руко̀й', 'больно̀й'), ('еѐ', 'неѐ')]\n"
     ]
    }
   ],
   "source": [
    "print(paired_rhyme_unordered_pairs[:10])"
   ]
  },
  {
   "cell_type": "code",
   "execution_count": 171,
   "metadata": {},
   "outputs": [],
   "source": [
    "ORDERED_RHYMING_PAIRS = paired_rhyme_pairs + crossed_4_pairs + encircling_pairs"
   ]
  },
  {
   "cell_type": "code",
   "execution_count": 172,
   "metadata": {},
   "outputs": [
    {
     "data": {
      "text/plain": [
       "455361"
      ]
     },
     "execution_count": 172,
     "metadata": {},
     "output_type": "execute_result"
    }
   ],
   "source": [
    "len(ORDERED_RHYMING_PAIRS)"
   ]
  },
  {
   "cell_type": "code",
   "execution_count": 173,
   "metadata": {},
   "outputs": [],
   "source": [
    "unordered_pairs = crossed_4_unordered_pairs + paired_rhyme_unordered_pairs + encircling_unordered_pairs"
   ]
  },
  {
   "cell_type": "code",
   "execution_count": 174,
   "metadata": {},
   "outputs": [],
   "source": [
    "UNORDERED_RHYMING_PAIRS = []\n",
    "for pair in unordered_pairs:\n",
    "    UNORDERED_RHYMING_PAIRS.append(tuple(sorted(pair)))\n",
    "    \n",
    "    "
   ]
  },
  {
   "cell_type": "markdown",
   "metadata": {},
   "source": [
    "# put all dictionaries here!"
   ]
  },
  {
   "cell_type": "markdown",
   "metadata": {},
   "source": [
    "парная рифма: PAIRED_RHYME_PAIRS_WITH_PATH: 4800 poems, 6.28 % <br>\n",
    "перекрестная рифма: CROSSED_4_PAIRS_WITH_PATH: 35842 poems, 46.87% <br>\n",
    "охватная рифма: ENCIRCLING_PAIRS_WITH_PATH: 1728 poems, 2.26% of the corpus"
   ]
  },
  {
   "cell_type": "code",
   "execution_count": 55,
   "metadata": {},
   "outputs": [
    {
     "data": {
      "text/plain": [
       "53.15"
      ]
     },
     "execution_count": 55,
     "metadata": {},
     "output_type": "execute_result"
    }
   ],
   "source": [
    "round(35842 / len(corpus) * 100, 2) + 6.28"
   ]
  },
  {
   "cell_type": "code",
   "execution_count": 175,
   "metadata": {},
   "outputs": [],
   "source": [
    "counts = Counter(ORDERED_RHYMING_PAIRS)\n"
   ]
  },
  {
   "cell_type": "code",
   "execution_count": 176,
   "metadata": {},
   "outputs": [
    {
     "data": {
      "text/plain": [
       "277474"
      ]
     },
     "execution_count": 176,
     "metadata": {},
     "output_type": "execute_result"
    }
   ],
   "source": [
    "len(counts)"
   ]
  },
  {
   "cell_type": "code",
   "execution_count": 177,
   "metadata": {},
   "outputs": [],
   "source": [
    "a = str(counts)\n"
   ]
  },
  {
   "cell_type": "code",
   "execution_count": 178,
   "metadata": {},
   "outputs": [],
   "source": [
    "new_a = re.sub(\"Counter\\(\\{\", \"\", a)\n",
    "new_a = re.sub(\"\\}\\)$\", \"\", new_a)"
   ]
  },
  {
   "cell_type": "code",
   "execution_count": 179,
   "metadata": {},
   "outputs": [
    {
     "data": {
      "text/plain": [
       "277474"
      ]
     },
     "execution_count": 179,
     "metadata": {},
     "output_type": "execute_result"
    }
   ],
   "source": [
    "exp = re.compile(\"\\(.+?\\): \\d+\")\n",
    "lst_a = re.findall(exp, new_a)\n",
    "len(lst_a)"
   ]
  },
  {
   "cell_type": "code",
   "execution_count": 180,
   "metadata": {},
   "outputs": [
    {
     "name": "stdout",
     "output_type": "stream",
     "text": [
      "'дня̀', 'меня̀', 1: 622\n",
      "'дѐнь', 'тѐнь', 1: 477\n",
      "'нѐт', 'свѐт', 1: 474\n",
      "'меня̀', 'огня̀', 1: 450\n",
      "'но̀чи', 'о̀чи', 1: 410\n",
      "'кро̀вь', 'любо̀вь', 1: 407\n",
      "'вно̀вь', 'любо̀вь', 1: 384\n",
      "'на̀с', 'ча̀с', 1: 360\n"
     ]
    }
   ],
   "source": [
    "rh_sorted = \"\\n\".join(lst_a)\n",
    "rh_sorted = re.sub(\"[)(]\", \"\", rh_sorted)\n",
    "print(rh_sorted[:200])"
   ]
  },
  {
   "cell_type": "code",
   "execution_count": 181,
   "metadata": {},
   "outputs": [],
   "source": [
    "with open('ordered_rhyming_pairs_by_frequency_55.txt', 'w') as f:\n",
    "    f.write(rh_sorted)"
   ]
  },
  {
   "cell_type": "code",
   "execution_count": 182,
   "metadata": {},
   "outputs": [],
   "source": [
    "ordered_counter = Counter(ORDERED_RHYMING_PAIRS)\n",
    "with open(\"ordered_rhyming_pairs_by_freq_55_2.txt\", 'w') as f:\n",
    "    for k, v in  ordered_counter.most_common():\n",
    "        f.write( \"{} {}\\n\".format(v, k) )"
   ]
  },
  {
   "cell_type": "code",
   "execution_count": 183,
   "metadata": {},
   "outputs": [
    {
     "data": {
      "text/plain": [
       "(('дня̀', 'меня̀', 1), 622)"
      ]
     },
     "execution_count": 183,
     "metadata": {},
     "output_type": "execute_result"
    }
   ],
   "source": [
    "ordered_counter.most_common()[0]"
   ]
  },
  {
   "cell_type": "code",
   "execution_count": 184,
   "metadata": {},
   "outputs": [],
   "source": [
    "unordered_counter = Counter(UNORDERED_RHYMING_PAIRS)\n",
    "with open(\"unordered_rhyming_pairs_by_freq_55.txt\", \"w\") as f:\n",
    "    for k, v in unordered_counter.most_common():\n",
    "        f.write(\"{} {}\\n\".format(v, k))"
   ]
  },
  {
   "cell_type": "code",
   "execution_count": 185,
   "metadata": {},
   "outputs": [
    {
     "data": {
      "text/plain": [
       "(('дня̀', 'меня̀'), 622)"
      ]
     },
     "execution_count": 185,
     "metadata": {},
     "output_type": "execute_result"
    }
   ],
   "source": [
    "unordered_counter.most_common()[0]"
   ]
  },
  {
   "cell_type": "code",
   "execution_count": null,
   "metadata": {},
   "outputs": [],
   "source": []
  },
  {
   "cell_type": "code",
   "execution_count": null,
   "metadata": {},
   "outputs": [],
   "source": []
  },
  {
   "cell_type": "code",
   "execution_count": null,
   "metadata": {},
   "outputs": [],
   "source": []
  },
  {
   "cell_type": "code",
   "execution_count": null,
   "metadata": {},
   "outputs": [],
   "source": []
  },
  {
   "cell_type": "code",
   "execution_count": null,
   "metadata": {},
   "outputs": [],
   "source": []
  },
  {
   "cell_type": "code",
   "execution_count": 80,
   "metadata": {},
   "outputs": [],
   "source": [
    "pairs_jdict = json.dumps(RHYMING_PAIRS_ONLY_WITH_PATH)"
   ]
  },
  {
   "cell_type": "code",
   "execution_count": 83,
   "metadata": {},
   "outputs": [],
   "source": [
    "with open(\"rhyming_pairs_with_path.json\", 'w') as f:\n",
    "    f.write(pairs_jdict)"
   ]
  },
  {
   "cell_type": "code",
   "execution_count": 40,
   "metadata": {},
   "outputs": [],
   "source": [
    "#print(RHYMING_PAIRS_WITH_PATH[poems_with_path[corpus[5588]]])"
   ]
  },
  {
   "cell_type": "code",
   "execution_count": 23,
   "metadata": {},
   "outputs": [],
   "source": [
    "rhymes_tuples_list = []# рифмованные кортежи\n",
    "paths_list = []# пути до файлов\n",
    "poems_list = []# сами стихотворения\n",
    "for key in RHYMING_PAIRS_WITH_PATH:\n",
    "    paths_list.append(key)\n",
    "    rhymes_tuples_list.append(RHYMING_PAIRS_WITH_PATH[key][1])\n",
    "    poems_list.append(RHYMING_PAIRS_WITH_PATH[key][0])\n",
    "    "
   ]
  },
  {
   "cell_type": "code",
   "execution_count": 24,
   "metadata": {},
   "outputs": [
    {
     "name": "stdout",
     "output_type": "stream",
     "text": [
      "[('густы̀м', 'томѝм', 1), ('криво̀й', 'мно̀й', 0), ('волна̀', 'ясна̀', 1), ('гу̀л', 'сомкну̀л', 0), ('ѝзбрала̀', 'светла̀', 1), ('ѐй', 'кудрѐй', 0), ('свѐт', 'согрѐт', 1), ('прѝтая̀', 'я̀', 1), ('больно̀й', 'руко̀й', 1), ('еѐ', 'неѐ', 0), ('гру̀дь', 'пу̀ть', 0), ('ждѐт', 'наро̀д', 0), ('су̀еты̀', 'ты̀', 1), ('погря̀з', 'ча̀с', 1), ('зако̀н', 'сто̀н', 1), ('го̀лово̀й', 'тобо̀й', 1), ('вѐрь', 'двѐрь', 0), ('левѝт', 'про̀звучѝт', 0), ('за̀падѐт', 'пло̀д', 0), ('жда̀ть', 'страда̀ть', 0), ('лу̀ч', 'ту̀ч', 0), ('моѐй', 'скорбѐй', 0), ('она̀', 'сна̀', 0), ('сѝл', 'служѝл', 0), ('вно̀вь', 'любо̀вь', 0)]\n"
     ]
    }
   ],
   "source": [
    "print(rhymes_tuples_list[0])\n"
   ]
  },
  {
   "cell_type": "code",
   "execution_count": 25,
   "metadata": {},
   "outputs": [
    {
     "name": "stdout",
     "output_type": "stream",
     "text": [
      "5267\n"
     ]
    }
   ],
   "source": []
  },
  {
   "cell_type": "code",
   "execution_count": 27,
   "metadata": {},
   "outputs": [],
   "source": [
    "def normal_letter(word):\n",
    "    word = word.replace(chr(768), '')\n",
    "    word = word.replace(chr(180), '')\n",
    "    word = word.replace(\"ѝ\", \"и\")\n",
    "    word = word.replace(\"ѐ\", \"е\")\n",
    "    word = word.replace(\"Ѐ\", \"Е\")\n",
    "    word = word.replace(\"Ѝ\", \"И\")\n",
    "    return word"
   ]
  },
  {
   "cell_type": "code",
   "execution_count": 69,
   "metadata": {},
   "outputs": [],
   "source": [
    "#print(pos_tag([normal_letter(word) for word in word_tokenize(poems_list[0].get_text())], lang='rus'))"
   ]
  },
  {
   "cell_type": "code",
   "execution_count": 28,
   "metadata": {},
   "outputs": [],
   "source": [
    "rhymes_lists_list = []\n",
    "number_of_rhymes_list = []\n",
    "for r in rhymes_tuples_list:\n",
    "    rhyming_words = []\n",
    "    for tupl in r:\n",
    "        words = tupl[:2]\n",
    "        rhyming_words.extend(words)\n",
    "    rhymes_lists_list.append(rhyming_words)\n",
    "    number_of_rhymes_list.append(len(rhyming_words))\n",
    "    \n",
    "        \n",
    "\n"
   ]
  },
  {
   "cell_type": "code",
   "execution_count": 75,
   "metadata": {},
   "outputs": [
    {
     "name": "stdout",
     "output_type": "stream",
     "text": [
      "['густы̀м', 'томѝм', 'криво̀й', 'мно̀й', 'волна̀', 'ясна̀', 'гу̀л', 'сомкну̀л', 'ѝзбрала̀', 'светла̀', 'ѐй', 'кудрѐй', 'свѐт', 'согрѐт', 'прѝтая̀', 'я̀', 'больно̀й', 'руко̀й', 'еѐ', 'неѐ', 'гру̀дь', 'пу̀ть', 'ждѐт', 'наро̀д', 'су̀еты̀', 'ты̀', 'погря̀з', 'ча̀с', 'зако̀н', 'сто̀н', 'го̀лово̀й', 'тобо̀й', 'вѐрь', 'двѐрь', 'левѝт', 'про̀звучѝт', 'за̀падѐт', 'пло̀д', 'жда̀ть', 'страда̀ть', 'лу̀ч', 'ту̀ч', 'моѐй', 'скорбѐй', 'она̀', 'сна̀', 'сѝл', 'служѝл', 'вно̀вь', 'любо̀вь']\n"
     ]
    }
   ],
   "source": []
  },
  {
   "cell_type": "code",
   "execution_count": 29,
   "metadata": {},
   "outputs": [
    {
     "name": "stdout",
     "output_type": "stream",
     "text": [
      "['зарѐю', 'сохо̀ю', 'нѐбеса̀м', 'та̀м', 'о̀роша̀ет', 'страда̀ет', 'весна̀', 'она̀', 'весѐлой', 'тяжѐлой', 'ла̀д', 'лежа̀т', 'но̀чи', 'о̀чи', 'бѐдняка̀', 'рука̀', 'могѝлы', 'сѝлы']\n",
      "18\n",
      "5267\n",
      "5267\n"
     ]
    }
   ],
   "source": [
    "print(rhymes_lists_list[6])\n",
    "print(number_of_rhymes_list[6])\n",
    "print(len(rhymes_lists_list))\n",
    "print(len(number_of_rhymes_list))"
   ]
  },
  {
   "cell_type": "code",
   "execution_count": 70,
   "metadata": {},
   "outputs": [
    {
     "name": "stdout",
     "output_type": "stream",
     "text": [
      "5267\n",
      "5267\n",
      "5267\n",
      "5267\n"
     ]
    }
   ],
   "source": [
    "\n",
    "number_of_nouns_list = []\n",
    "number_of_verbs_list = []\n",
    "number_of_adjectives_list = []\n",
    "number_of_words_list = []\n",
    "for poem in poems_list:\n",
    "    noun_counter = 0\n",
    "    verb_counter = 0\n",
    "    adj_counter = 0\n",
    "    normalized_letters = [normal_letter(word) for word in word_tokenize(poem.get_text())]\n",
    "    for word in normalized_letters:\n",
    "        if not word:\n",
    "            normalized_letters.remove(word)\n",
    "    pos_tagged = pos_tag(normalized_letters, lang='rus')\n",
    "    for word in pos_tagged:\n",
    "        if word[1] == \"S\":\n",
    "            noun_counter += 1\n",
    "        elif word[1] == \"V\":\n",
    "            verb_counter += 1\n",
    "        elif word[1].startswith(\"A=\"):\n",
    "            adj_counter += 1\n",
    "        elif word[1] == \"NONLEX\":\n",
    "            pos_tagged.remove(word)\n",
    "        else:\n",
    "            pass\n",
    "    \n",
    "    number_of_nouns_list.append(noun_counter)\n",
    "    number_of_verbs_list.append(verb_counter)\n",
    "    number_of_adjectives_list.append(adj_counter)\n",
    "    number_of_words_list.append(len(pos_tagged))\n",
    "print(len(number_of_nouns_list))\n",
    "print(len(number_of_verbs_list))\n",
    "print(len(number_of_adjectives_list))\n",
    "print(len(number_of_words_list))"
   ]
  },
  {
   "cell_type": "code",
   "execution_count": 76,
   "metadata": {},
   "outputs": [
    {
     "name": "stdout",
     "output_type": "stream",
     "text": [
      "['густы̀м', 'томѝм', 'криво̀й', 'мно̀й', 'волна̀', 'ясна̀', 'гу̀л', 'сомкну̀л', 'ѝзбрала̀', 'светла̀', 'ѐй', 'кудрѐй', 'свѐт', 'согрѐт', 'прѝтая̀', 'я̀', 'больно̀й', 'руко̀й', 'еѐ', 'неѐ', 'гру̀дь', 'пу̀ть', 'ждѐт', 'наро̀д', 'су̀еты̀', 'ты̀', 'погря̀з', 'ча̀с', 'зако̀н', 'сто̀н', 'го̀лово̀й', 'тобо̀й', 'вѐрь', 'двѐрь', 'левѝт', 'про̀звучѝт', 'за̀падѐт', 'пло̀д', 'жда̀ть', 'страда̀ть', 'лу̀ч', 'ту̀ч', 'моѐй', 'скорбѐй', 'она̀', 'сна̀', 'сѝл', 'служѝл', 'вно̀вь', 'любо̀вь']\n"
     ]
    }
   ],
   "source": [
    "print(rhymes_lists_list[0])"
   ]
  },
  {
   "cell_type": "code",
   "execution_count": 77,
   "metadata": {},
   "outputs": [],
   "source": [
    "number_of_rhyming_nouns_list = []\n",
    "number_of_rhyming_verbs_list = []\n",
    "number_of_rhyming_adjectives_list = []\n",
    "\n",
    "for sublist in rhymes_lists_list:\n",
    "    rhyming_noun_counter = 0\n",
    "    rhyming_verb_counter = 0\n",
    "    rhyming_adj_counter = 0\n",
    "    normalized = [normal_letter(word) for word in sublist]\n",
    "    for word in normalized:\n",
    "        if not word:\n",
    "            normalized.remove(word)\n",
    "    pos_tagged = pos_tag(normalized, lang='rus')\n",
    "    for w in pos_tagged:\n",
    "        if w[1] == \"S\":\n",
    "            rhyming_noun_counter += 1\n",
    "        elif w[1] == \"V\":\n",
    "            rhyming_verb_counter += 1\n",
    "        elif w[1].startswith(\"A=\"):\n",
    "            rhyming_adj_counter += 1\n",
    "        else:\n",
    "            pass\n",
    "    number_of_rhyming_nouns_list.append(rhyming_noun_counter)\n",
    "    number_of_rhyming_verbs_list.append(rhyming_verb_counter)\n",
    "    number_of_rhyming_adjectives_list.append(rhyming_adj_counter)\n",
    "    \n",
    "        "
   ]
  },
  {
   "cell_type": "markdown",
   "metadata": {},
   "source": [
    "mydf = pd.DataFrame({'Column1': range(1, 4), 'Column2': ['one', 'two', 'three']})<br>\n",
    "\n",
    "Dataframe:<br>\n",
    "Column_1 -  'poem_id': range(len(paths_list))<br>\n",
    "Column_2 - 'century': century_list <br>\n",
    "Column_3 - 'words': number_of_words_list <br>\n",
    "Column_4 - 'rhymes': number_of_rhymes_list <br>\n",
    "Column_5 - 'nouns': number_of_nouns_list <br>\n",
    "Column_6 - 'verbs': number_of_verbs_list <br>\n",
    "Column_7 - 'adjectives': number_of_adjectives_list <br>\n",
    "Column_8 - 'rhyming_nouns': number_of_rhyming_nouns_list <br>\n",
    "ДАЛЬШЕ: etc"
   ]
  },
  {
   "cell_type": "code",
   "execution_count": 81,
   "metadata": {},
   "outputs": [],
   "source": [
    "century_list = []# век\n",
    "for path in paths_list:\n",
    "    if path.startswith('xix'):\n",
    "        century = 'xix'\n",
    "    else:\n",
    "        century = 'xx'\n",
    "    century_list.append(century)\n",
    "\n",
    "        \n"
   ]
  },
  {
   "cell_type": "code",
   "execution_count": null,
   "metadata": {},
   "outputs": [],
   "source": [
    "print(len(century_list))"
   ]
  },
  {
   "cell_type": "code",
   "execution_count": 84,
   "metadata": {},
   "outputs": [],
   "source": [
    "project_data = pd.DataFrame({'poem_id': range(len(paths_list)),\n",
    "                            'century': century_list,\n",
    "                            'words': number_of_words_list,\n",
    "                            'rhymes': number_of_rhymes_list,\n",
    "                            'nouns': number_of_nouns_list,\n",
    "                            'verbs': number_of_verbs_list,\n",
    "                            'adjectives': number_of_adjectives_list,\n",
    "                            'rhyming_nouns': number_of_rhyming_nouns_list,\n",
    "                            'rhyming_verbs': number_of_rhyming_verbs_list,\n",
    "                            'rhyming_adjectives': number_of_rhyming_adjectives_list})"
   ]
  },
  {
   "cell_type": "code",
   "execution_count": 86,
   "metadata": {},
   "outputs": [],
   "source": [
    "project_data.to_csv(\"poetic.csv\")"
   ]
  },
  {
   "cell_type": "code",
   "execution_count": null,
   "metadata": {},
   "outputs": [],
   "source": []
  },
  {
   "cell_type": "code",
   "execution_count": null,
   "metadata": {},
   "outputs": [],
   "source": []
  },
  {
   "cell_type": "code",
   "execution_count": null,
   "metadata": {},
   "outputs": [],
   "source": []
  },
  {
   "cell_type": "code",
   "execution_count": 20,
   "metadata": {},
   "outputs": [],
   "source": [
    "complete_rhyme_types_list = []\n",
    "for poem in corpus:\n",
    "    complete_rhyme_types_list.append(determine_rhyming_type(poem))\n",
    "\n",
    "count = Counter()\n",
    "for t in complete_rhyme_types_list:\n",
    "    count[t] +=1\n",
    "    \n",
    "rh = str(count).split(\",\")\n",
    "complete_rh = \"\\n\".join(rh)\n",
    "with open('complete_rhyming_types.txt', 'w') as f:\n",
    "    f.write(complete_rh)"
   ]
  },
  {
   "cell_type": "code",
   "execution_count": null,
   "metadata": {},
   "outputs": [],
   "source": []
  },
  {
   "cell_type": "markdown",
   "metadata": {},
   "source": [
    "# Здесь всё, что мы пока обработать не можем"
   ]
  },
  {
   "cell_type": "markdown",
   "metadata": {},
   "source": [
    "## paired_rhyme_odd_number_of_verses: 134\n",
    "## Неизвестно:  44\n",
    "## Вольная рифма:  11300\n",
    "## Спорадическая рифма:  754\n",
    "## Нарушения строфики:  5698\n",
    "## paired_rhyme_unknown_number_of_verses: 339\n",
    "## paired_rhyme_odd_number_of_verses: 134\n",
    "## strophe_4_wrong_number_of_verses: 587\n",
    "## EXCEPTIONS\n"
   ]
  }
 ],
 "metadata": {
  "kernelspec": {
   "display_name": "Python 3",
   "language": "python",
   "name": "python3"
  },
  "language_info": {
   "codemirror_mode": {
    "name": "ipython",
    "version": 3
   },
   "file_extension": ".py",
   "mimetype": "text/x-python",
   "name": "python",
   "nbconvert_exporter": "python",
   "pygments_lexer": "ipython3",
   "version": "3.6.4"
  }
 },
 "nbformat": 4,
 "nbformat_minor": 2
}
